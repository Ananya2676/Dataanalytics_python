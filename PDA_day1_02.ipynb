{
 "cells": [
  {
   "cell_type": "markdown",
   "id": "a0eb5792-f62a-4e9d-a25d-3618a3cf31cc",
   "metadata": {},
   "source": [
    "basic\n"
   ]
  },
  {
   "cell_type": "code",
   "execution_count": 2,
   "id": "957e8f33-821a-4ebd-afbd-be265c1a0e59",
   "metadata": {},
   "outputs": [
    {
     "name": "stdout",
     "output_type": "stream",
     "text": [
      "<class 'int'>\n",
      "<class 'float'>\n"
     ]
    }
   ],
   "source": [
    "a=60\n",
    "b=6.5\n",
    "print(type(a))\n",
    "print(type(b))"
   ]
  },
  {
   "cell_type": "code",
   "execution_count": 4,
   "id": "ffb199a5-40be-4183-ab8b-6bbdc6e30da1",
   "metadata": {},
   "outputs": [
    {
     "name": "stdout",
     "output_type": "stream",
     "text": [
      "66\n"
     ]
    }
   ],
   "source": [
    "print(int(a+b))\n"
   ]
  },
  {
   "cell_type": "code",
   "execution_count": 5,
   "id": "b0888d86-7a79-4c38-9031-fb9520527306",
   "metadata": {},
   "outputs": [
    {
     "data": {
      "text/plain": [
       "str"
      ]
     },
     "execution_count": 5,
     "metadata": {},
     "output_type": "execute_result"
    }
   ],
   "source": [
    "num=\"23\"\n",
    "type(num)\n"
   ]
  },
  {
   "cell_type": "code",
   "execution_count": 6,
   "id": "1cdd6084-bbc0-4cf6-83f9-2c07e64f782a",
   "metadata": {},
   "outputs": [
    {
     "data": {
      "text/plain": [
       "6"
      ]
     },
     "execution_count": 6,
     "metadata": {},
     "output_type": "execute_result"
    }
   ],
   "source": [
    "13//2"
   ]
  },
  {
   "cell_type": "code",
   "execution_count": 7,
   "id": "9c04146c-b2e4-4cc5-ab4c-8e101d52d4f1",
   "metadata": {},
   "outputs": [
    {
     "data": {
      "text/plain": [
       "6.5"
      ]
     },
     "execution_count": 7,
     "metadata": {},
     "output_type": "execute_result"
    }
   ],
   "source": [
    "13/2"
   ]
  },
  {
   "cell_type": "code",
   "execution_count": 10,
   "id": "c74b6052-dd45-491c-a6bd-c9b48d5369b5",
   "metadata": {},
   "outputs": [],
   "source": [
    "def taxcl(s,t):\n",
    "    tax=(t/100*s)\n",
    "    return tax\n",
    "    "
   ]
  },
  {
   "cell_type": "code",
   "execution_count": 11,
   "id": "fb1247d7-8e14-4d24-8424-1efe1f412cdc",
   "metadata": {},
   "outputs": [
    {
     "data": {
      "text/plain": [
       "1000.0"
      ]
     },
     "execution_count": 11,
     "metadata": {},
     "output_type": "execute_result"
    }
   ],
   "source": [
    "taxcl(10000,10)"
   ]
  },
  {
   "cell_type": "markdown",
   "id": "0e23bc0c-6683-4003-988f-e5303e255697",
   "metadata": {},
   "source": [
    "Functions"
   ]
  },
  {
   "cell_type": "code",
   "execution_count": 15,
   "id": "25d86fbb-ef9d-46e8-9316-f4ad9d36487d",
   "metadata": {},
   "outputs": [],
   "source": [
    "def addition (a,b):\n",
    "    return a+b"
   ]
  },
  {
   "cell_type": "code",
   "execution_count": 16,
   "id": "6d4fdc2e-7a1c-4537-92fc-40f058217f2e",
   "metadata": {},
   "outputs": [
    {
     "data": {
      "text/plain": [
       "112"
      ]
     },
     "execution_count": 16,
     "metadata": {},
     "output_type": "execute_result"
    }
   ],
   "source": [
    "addition(45,67)"
   ]
  },
  {
   "cell_type": "code",
   "execution_count": 17,
   "id": "bffa95d3-cb4d-4660-ad37-7ce6b4715ba5",
   "metadata": {},
   "outputs": [],
   "source": [
    "def taxcal (S,T):\n",
    "    Tax = ((T/100)*S)\n",
    "    return Tax"
   ]
  },
  {
   "cell_type": "code",
   "execution_count": 18,
   "id": "a236699b-cd3a-4c28-b893-1c86ad61b49c",
   "metadata": {},
   "outputs": [
    {
     "data": {
      "text/plain": [
       "5000.0"
      ]
     },
     "execution_count": 18,
     "metadata": {},
     "output_type": "execute_result"
    }
   ],
   "source": [
    "taxcal(50000,10)"
   ]
  },
  {
   "cell_type": "markdown",
   "id": "ca9251d6-3cc4-43c8-b144-0bd9a9744656",
   "metadata": {},
   "source": [
    "Write a program for tax deduction:\n",
    "1.If salary is less than 10000,apply 5% tax\n",
    "2.Salary is more than 10000 but less than 50000,apply 10% tax\n",
    "3.Salary is more than 50000 but less than 200000,apply 15% tax\n",
    "4.If salary is more than 2lakhs,apply 20% tax."
   ]
  },
  {
   "cell_type": "code",
   "execution_count": 32,
   "id": "bb6e603d-8bc0-4741-af9a-cb563bf287c1",
   "metadata": {},
   "outputs": [],
   "source": [
    "def taxcal(Sal):\n",
    "    if (Sal>0 and Sal<10000):\n",
    "        return 0.05*Sal\n",
    "    elif (Sal<=10000 and Sal>50000):\n",
    "        return 0.1*Sal\n",
    "    elif (Sal<=50000 and Sal>200000):\n",
    "        return 0.15*Sal\n",
    "    elif (Sal>=200000):\n",
    "        return 0.20*Sal\n",
    "    else:\n",
    "        return \"INVALID\""
   ]
  },
  {
   "cell_type": "code",
   "execution_count": 33,
   "id": "e9b7f397-7d3d-4074-9547-99b02ca3ba41",
   "metadata": {},
   "outputs": [
    {
     "data": {
      "text/plain": [
       "40000.0"
      ]
     },
     "execution_count": 33,
     "metadata": {},
     "output_type": "execute_result"
    }
   ],
   "source": [
    "taxcal(200000)"
   ]
  },
  {
   "cell_type": "code",
   "execution_count": 34,
   "id": "3d5d2612-b59c-4b38-bf51-83dfd6e186ad",
   "metadata": {},
   "outputs": [
    {
     "data": {
      "text/plain": [
       "'INVALID'"
      ]
     },
     "execution_count": 34,
     "metadata": {},
     "output_type": "execute_result"
    }
   ],
   "source": [
    "taxcal(-40)"
   ]
  },
  {
   "cell_type": "markdown",
   "id": "acc98608-d153-445d-9643-bd5a43f034bd",
   "metadata": {},
   "source": [
    "Loops"
   ]
  },
  {
   "cell_type": "markdown",
   "id": "8736dd15-2bac-4154-8d4b-6aae3ac0bbfe",
   "metadata": {},
   "source": [
    "w = [67,45,23,50]\n",
    "h=[160,127,140,187]\n",
    "output:bmi=w/h^2"
   ]
  },
  {
   "cell_type": "code",
   "execution_count": 2,
   "id": "5b04dba2-9faa-4653-8c4c-30ef9f289ee4",
   "metadata": {},
   "outputs": [
    {
     "name": "stdout",
     "output_type": "stream",
     "text": [
      "26.171874999999996\n",
      "27.900055800111602\n",
      "11.734693877551022\n",
      "14.298378563870855\n"
     ]
    }
   ],
   "source": [
    "w = [67,45,23,50]\n",
    "h = [1.6,1.27,1.40,1.87]\n",
    "for i,j in zip(w,h):\n",
    "    print(i / (j*j))\n"
   ]
  },
  {
   "cell_type": "code",
   "execution_count": 4,
   "id": "0b8655a4-3a9a-48ef-8b0b-09e9e369894a",
   "metadata": {},
   "outputs": [
    {
     "name": "stdout",
     "output_type": "stream",
     "text": [
      "26.171874999999996\n",
      "27.900055800111602\n",
      "11.734693877551022\n",
      "14.298378563870855\n"
     ]
    }
   ],
   "source": [
    "for i in range(len(w)):\n",
    "    print(w[i] / (h[i]*h[i]))"
   ]
  },
  {
   "cell_type": "markdown",
   "id": "af0c37ca-7e76-4288-9bff-a1cfc9a298bb",
   "metadata": {},
   "source": [
    "Numpy"
   ]
  },
  {
   "cell_type": "code",
   "execution_count": 5,
   "id": "7c4fe66c-a689-4883-9c71-38dd7a754f03",
   "metadata": {},
   "outputs": [
    {
     "name": "stdout",
     "output_type": "stream",
     "text": [
      "[90, 56, 12, 34, 78, 45, 55, 67]\n"
     ]
    }
   ],
   "source": [
    "lst1 = [90,56,12,34]\n",
    "lst2 = [78,45,55,67]\n",
    "print(lst1+lst2)"
   ]
  },
  {
   "cell_type": "code",
   "execution_count": 6,
   "id": "0931d051-9e9e-40d9-91ff-5553bb8b81e3",
   "metadata": {},
   "outputs": [
    {
     "name": "stdout",
     "output_type": "stream",
     "text": [
      "[168 101  67 101]\n"
     ]
    }
   ],
   "source": [
    "import numpy as np\n",
    "ar1 =  np.array([90,56,12,34])\n",
    "ar2 = np.array([78,45,55,67])\n",
    "print(ar1+ar2)"
   ]
  },
  {
   "cell_type": "code",
   "execution_count": 7,
   "id": "5071626a-b9b6-4b2c-a8fb-b288c0239bc8",
   "metadata": {},
   "outputs": [
    {
     "name": "stdout",
     "output_type": "stream",
     "text": [
      "[[0. 0. 0.]\n",
      " [0. 0. 0.]]\n"
     ]
    }
   ],
   "source": [
    "arr1 = np.zeros((2,3))\n",
    "print(arr1)"
   ]
  },
  {
   "cell_type": "code",
   "execution_count": 8,
   "id": "60cf0603-fa9a-4ab2-91c2-719506e347d4",
   "metadata": {},
   "outputs": [
    {
     "name": "stdout",
     "output_type": "stream",
     "text": [
      "[[1. 1. 1.]\n",
      " [1. 1. 1.]]\n"
     ]
    }
   ],
   "source": [
    "arr2 = np.ones((2,3))\n",
    "print(arr2)"
   ]
  },
  {
   "cell_type": "code",
   "execution_count": 9,
   "id": "9524519f-02f5-4a58-a4a3-e062a80f0385",
   "metadata": {},
   "outputs": [
    {
     "name": "stdout",
     "output_type": "stream",
     "text": [
      "[[1. 0. 0.]\n",
      " [0. 1. 0.]\n",
      " [0. 0. 1.]]\n"
     ]
    }
   ],
   "source": [
    "arr3 = np.eye(3)\n",
    "print(arr3)"
   ]
  },
  {
   "cell_type": "code",
   "execution_count": 14,
   "id": "fe8ac96e-11a8-4808-9254-16b25df19fe7",
   "metadata": {},
   "outputs": [
    {
     "name": "stdout",
     "output_type": "stream",
     "text": [
      "[[4 5 6]\n",
      " [9 5 0]]\n",
      "2\n",
      "(2, 3)\n"
     ]
    }
   ],
   "source": [
    "arr4 = np.array([[4,5,6],[9,5,0]])\n",
    "print(arr4)\n",
    "print(np.ndim(arr4))\n",
    "print(np.shape(arr4))"
   ]
  },
  {
   "cell_type": "code",
   "execution_count": 17,
   "id": "44376206-5992-4f4b-a5ca-15d6d86afa20",
   "metadata": {},
   "outputs": [],
   "source": [
    "arr5 = np.array([9,4,5,6,9,7,4,3])\n"
   ]
  },
  {
   "cell_type": "code",
   "execution_count": 18,
   "id": "5c7c6712-bd6c-48fd-88da-f96ec218f15e",
   "metadata": {},
   "outputs": [
    {
     "data": {
      "text/plain": [
       "array([[9, 4],\n",
       "       [5, 6],\n",
       "       [9, 7],\n",
       "       [4, 3]])"
      ]
     },
     "execution_count": 18,
     "metadata": {},
     "output_type": "execute_result"
    }
   ],
   "source": [
    "arr5.reshape(4,2)"
   ]
  },
  {
   "cell_type": "code",
   "execution_count": 19,
   "id": "70a8e520-cea8-4992-bff6-41bb410761e0",
   "metadata": {},
   "outputs": [
    {
     "name": "stdout",
     "output_type": "stream",
     "text": [
      "[[10 11 12 13 14]\n",
      " [15 16 17 18 19]\n",
      " [20 21 22 23 24]\n",
      " [25 26 27 28 29]\n",
      " [30 31 32 33 34]\n",
      " [35 36 37 38 39]\n",
      " [40 41 42 43 44]\n",
      " [45 46 47 48 49]]\n",
      "(8, 5)\n"
     ]
    }
   ],
   "source": [
    "arr6 = np.arange(10,50).reshape(8,5)\n",
    "print(arr6)\n",
    "print(np.shape(arr6))"
   ]
  },
  {
   "cell_type": "code",
   "execution_count": 20,
   "id": "6823dec6-859d-4a52-aa6c-457012ca61b8",
   "metadata": {},
   "outputs": [
    {
     "name": "stdout",
     "output_type": "stream",
     "text": [
      "[  7  14  21  28  35  42  49  56  63  70  77  84  91  98 105 112 119 126\n",
      " 133 140 147 154 161 168 175 182 189 196 203 210 217 224 231 238 245 252\n",
      " 259 266 273 280 287 294 301 308 315 322 329 336 343 350 357 364 371 378\n",
      " 385 392 399 406 413 420 427 434 441 448 455 462 469 476 483 490 497 504\n",
      " 511 518 525 532 539 546 553 560 567 574 581 588 595 602 609 616 623 630\n",
      " 637 644 651 658 665 672 679 686 693 700]\n"
     ]
    }
   ],
   "source": [
    "arr7 = np.arange(7,701,7)\n",
    "print(arr7)\n"
   ]
  },
  {
   "cell_type": "code",
   "execution_count": 21,
   "id": "e0dc0a41-9fd6-4bcc-b7df-75d89bd54bad",
   "metadata": {},
   "outputs": [
    {
     "name": "stdout",
     "output_type": "stream",
     "text": [
      "[   8   16   24   32   40   48   56   64   72   80   88   96  104  112\n",
      "  120  128  136  144  152  160  168  176  184  192  200  208  216  224\n",
      "  232  240  248  256  264  272  280  288  296  304  312  320  328  336\n",
      "  344  352  360  368  376  384  392  400  408  416  424  432  440  448\n",
      "  456  464  472  480  488  496  504  512  520  528  536  544  552  560\n",
      "  568  576  584  592  600  608  616  624  632  640  648  656  664  672\n",
      "  680  688  696  704  712  720  728  736  744  752  760  768  776  784\n",
      "  792  800  808  816  824  832  840  848  856  864  872  880  888  896\n",
      "  904  912  920  928  936  944  952  960  968  976  984  992 1000]\n",
      "<class 'numpy.ndarray'>\n"
     ]
    }
   ],
   "source": [
    "arr8 = np.arange(8,1001,8)\n",
    "print(arr8)\n",
    "print(type(arr8))"
   ]
  },
  {
   "cell_type": "code",
   "execution_count": 22,
   "id": "622a68ff-ad69-4e87-955d-672f5cce8699",
   "metadata": {},
   "outputs": [
    {
     "name": "stdout",
     "output_type": "stream",
     "text": [
      "[[[1 2 3]\n",
      "  [6 7 8]]\n",
      "\n",
      " [[4 5 2]\n",
      "  [3 6 0]]]\n",
      "(2, 2, 3)\n",
      "3\n"
     ]
    }
   ],
   "source": [
    "arr9 = np.array( [ [[1,2,3],[6,7,8]],[[4,5,2],[3,6,0]] ])\n",
    "print(arr9)\n",
    "print(np.shape(arr9))\n",
    "print(np.ndim(arr9))"
   ]
  },
  {
   "cell_type": "code",
   "execution_count": 23,
   "id": "bea90959-c4af-4191-bc75-4290e04b32df",
   "metadata": {},
   "outputs": [
    {
     "name": "stdout",
     "output_type": "stream",
     "text": [
      "[2.  3.2 4.4 5.6 6.8 8. ]\n"
     ]
    }
   ],
   "source": [
    "arr10 = np.linspace(2,8,6)\n",
    "print(arr10)"
   ]
  },
  {
   "cell_type": "markdown",
   "id": "f6ffe49d-5b0e-4462-8e71-2680781b80fa",
   "metadata": {},
   "source": [
    "Matrix operation"
   ]
  },
  {
   "cell_type": "code",
   "execution_count": 24,
   "id": "e83d18b9-2f12-419a-a048-24a1eff53b60",
   "metadata": {},
   "outputs": [
    {
     "name": "stdout",
     "output_type": "stream",
     "text": [
      "Matrix 1: \n",
      " [[9 4]\n",
      " [6 7]]\n",
      "Matrix 2: \n",
      " [[1 2]\n",
      " [3 4]]\n"
     ]
    }
   ],
   "source": [
    "mat1 = np.array([9,4,6,7]).reshape(2,2)\n",
    "mat2 = np.array([1,2,3,4]).reshape(2,2)\n",
    "print(\"Matrix 1: \\n\",mat1)\n",
    "print(\"Matrix 2: \\n\",mat2)"
   ]
  },
  {
   "cell_type": "code",
   "execution_count": 25,
   "id": "d8179db5-1422-4755-98fd-ff3d8d358cd4",
   "metadata": {},
   "outputs": [
    {
     "name": "stdout",
     "output_type": "stream",
     "text": [
      "[[ 9  8]\n",
      " [18 28]]\n"
     ]
    }
   ],
   "source": [
    "print(mat1*mat2)"
   ]
  },
  {
   "cell_type": "code",
   "execution_count": 26,
   "id": "31c9ddac-669b-40a0-857e-4e1ab336e938",
   "metadata": {},
   "outputs": [
    {
     "name": "stdout",
     "output_type": "stream",
     "text": [
      "[[21 34]\n",
      " [27 40]]\n"
     ]
    }
   ],
   "source": [
    "print(mat1.dot(mat2))"
   ]
  },
  {
   "cell_type": "code",
   "execution_count": 27,
   "id": "00eb7300-e101-4e6a-b73d-e252ef9c511b",
   "metadata": {},
   "outputs": [
    {
     "name": "stdout",
     "output_type": "stream",
     "text": [
      "[[21 34]\n",
      " [27 40]]\n"
     ]
    }
   ],
   "source": [
    "print(mat1@mat2)"
   ]
  },
  {
   "cell_type": "code",
   "execution_count": 29,
   "id": "8783f19a-8555-4abb-ab98-b078c7330ac9",
   "metadata": {},
   "outputs": [
    {
     "name": "stdout",
     "output_type": "stream",
     "text": [
      "[[-2.   1. ]\n",
      " [ 1.5 -0.5]]\n"
     ]
    }
   ],
   "source": [
    "print(np.linalg.inv(mat2))"
   ]
  },
  {
   "cell_type": "markdown",
   "id": "b0b2568c-b0a0-463c-81a2-9e01873761e2",
   "metadata": {},
   "source": [
    "Statistics"
   ]
  },
  {
   "cell_type": "code",
   "execution_count": 30,
   "id": "8f2797fb-951e-4e4d-abd2-c2215bd0a5a3",
   "metadata": {},
   "outputs": [
    {
     "name": "stdout",
     "output_type": "stream",
     "text": [
      "36.666666666666664\n"
     ]
    }
   ],
   "source": [
    "ar1 = np.array([90,45,34,16,23,12])\n",
    "print(np.mean(ar1))"
   ]
  },
  {
   "cell_type": "code",
   "execution_count": 31,
   "id": "c419eda3-3e4b-4ce5-8a33-556454d781db",
   "metadata": {},
   "outputs": [
    {
     "name": "stdout",
     "output_type": "stream",
     "text": [
      "28.5\n"
     ]
    }
   ],
   "source": [
    "print(np.median(ar1))"
   ]
  },
  {
   "cell_type": "code",
   "execution_count": 32,
   "id": "ada14627-5864-4b09-9931-bc931385ec98",
   "metadata": {},
   "outputs": [
    {
     "name": "stdout",
     "output_type": "stream",
     "text": [
      "26.278423764669668\n"
     ]
    }
   ],
   "source": [
    "print(np.std(ar1))"
   ]
  },
  {
   "cell_type": "code",
   "execution_count": 33,
   "id": "5abdf51f-49c3-4d2a-aaea-127484df345c",
   "metadata": {},
   "outputs": [
    {
     "name": "stdout",
     "output_type": "stream",
     "text": [
      "690.5555555555557\n"
     ]
    }
   ],
   "source": [
    "print(np.var(ar1))"
   ]
  },
  {
   "cell_type": "markdown",
   "id": "1d27fa67-3d01-4fb7-b812-a224b3d35a80",
   "metadata": {},
   "source": [
    "Trigonometry"
   ]
  },
  {
   "cell_type": "code",
   "execution_count": 35,
   "id": "8735d49f-5fdb-4f7d-9840-c5fcc9776997",
   "metadata": {},
   "outputs": [
    {
     "name": "stdout",
     "output_type": "stream",
     "text": [
      "3.141592653589793\n"
     ]
    }
   ],
   "source": [
    "print(np.pi)"
   ]
  },
  {
   "cell_type": "code",
   "execution_count": 34,
   "id": "cb3fd4e5-3908-44c9-89f9-6eadda84d170",
   "metadata": {},
   "outputs": [
    {
     "name": "stdout",
     "output_type": "stream",
     "text": [
      "0.8939966636005579\n",
      "-0.9880316240928618\n",
      "0.8509035245341184\n"
     ]
    }
   ],
   "source": [
    "rad = [90,30,45]\n",
    "for i in rad:\n",
    "    print(np.sin(i))"
   ]
  },
  {
   "cell_type": "code",
   "execution_count": 36,
   "id": "9996e3e3-46ac-4bb2-876a-9b4cf0c80f96",
   "metadata": {},
   "outputs": [
    {
     "name": "stdout",
     "output_type": "stream",
     "text": [
      "-0.4480736161291701\n",
      "0.15425144988758405\n",
      "0.5253219888177297\n"
     ]
    }
   ],
   "source": [
    "rad = [90,30,45]\n",
    "for i in rad:\n",
    "    print(np.cos(i))"
   ]
  },
  {
   "cell_type": "code",
   "execution_count": 37,
   "id": "094ab05e-105c-48c9-bb11-51ad3bb1ab3a",
   "metadata": {},
   "outputs": [
    {
     "name": "stdout",
     "output_type": "stream",
     "text": [
      "0.7071067811865476\n",
      "1.0\n",
      "0.8660254037844386\n"
     ]
    }
   ],
   "source": [
    "deg = [np.pi/4, np.pi/2, np.pi/3]\n",
    "for i in deg:\n",
    "    print(np.sin(i))"
   ]
  },
  {
   "cell_type": "code",
   "execution_count": 38,
   "id": "f9f0a308-7c67-44d4-881a-622352244c0e",
   "metadata": {},
   "outputs": [
    {
     "name": "stdout",
     "output_type": "stream",
     "text": [
      "10.0\n"
     ]
    }
   ],
   "source": [
    "print(np.hypot(6,8))\n"
   ]
  },
  {
   "cell_type": "markdown",
   "id": "9b121fa4-523c-4e35-9e36-8b4311983ccd",
   "metadata": {},
   "source": [
    "Arithmetic operation"
   ]
  },
  {
   "cell_type": "code",
   "execution_count": 52,
   "id": "649f130b-7bf4-4a2a-88bd-b1f2e09c5749",
   "metadata": {},
   "outputs": [
    {
     "name": "stdout",
     "output_type": "stream",
     "text": [
      "33\n"
     ]
    }
   ],
   "source": [
    "a = np.array([8,9,1])\n",
    "b = np.array([2,5,8])\n",
    "print(np.sum((a,b)))"
   ]
  },
  {
   "cell_type": "code",
   "execution_count": 48,
   "id": "0ceeeccb-c2b1-4a50-b69f-4fbcd7d7e57e",
   "metadata": {},
   "outputs": [
    {
     "name": "stdout",
     "output_type": "stream",
     "text": [
      "[ 8 17 18]\n"
     ]
    }
   ],
   "source": [
    "print(np.cumsum(a))"
   ]
  },
  {
   "cell_type": "code",
   "execution_count": 54,
   "id": "539f50b1-d62b-4256-959e-d00cf1134884",
   "metadata": {},
   "outputs": [
    {
     "name": "stdout",
     "output_type": "stream",
     "text": [
      "[[ 1  2  3]\n",
      " [ 7  9  6]\n",
      " [16 10 12]]\n"
     ]
    }
   ],
   "source": [
    "c = np.array([[1,2,3],[6,7,3],[9,1,6]])\n",
    "print(np.cumsum(c,axis=0))  #column"
   ]
  },
  {
   "cell_type": "code",
   "execution_count": 55,
   "id": "555a50ce-c444-4b02-afb7-c1a5e88b31f0",
   "metadata": {},
   "outputs": [
    {
     "name": "stdout",
     "output_type": "stream",
     "text": [
      "[[ 1  3  6]\n",
      " [ 6 13 16]\n",
      " [ 9 10 16]]\n"
     ]
    }
   ],
   "source": [
    "print(np.cumsum(c,axis=1))  #row"
   ]
  },
  {
   "cell_type": "code",
   "execution_count": 57,
   "id": "9dec0c67-869c-4c06-bfb6-87c9cff0d4fe",
   "metadata": {},
   "outputs": [
    {
     "name": "stdout",
     "output_type": "stream",
     "text": [
      "5760\n"
     ]
    }
   ],
   "source": [
    "print(np.prod((a,b)))"
   ]
  },
  {
   "cell_type": "code",
   "execution_count": 58,
   "id": "6103a50d-2160-4937-8ff6-cd42e3e023e8",
   "metadata": {},
   "outputs": [
    {
     "name": "stdout",
     "output_type": "stream",
     "text": [
      "[    1     2     6    36   252   756  6804  6804 40824]\n"
     ]
    }
   ],
   "source": [
    "print(np.cumprod(c))"
   ]
  },
  {
   "cell_type": "code",
   "execution_count": 60,
   "id": "815a3521-a67b-474b-bc99-2549f8f57f21",
   "metadata": {},
   "outputs": [
    {
     "name": "stdout",
     "output_type": "stream",
     "text": [
      "[[ 1  2  3]\n",
      " [ 6 14  9]\n",
      " [54 14 54]]\n"
     ]
    }
   ],
   "source": [
    "print(np.cumprod(c,axis=0))"
   ]
  },
  {
   "cell_type": "code",
   "execution_count": 61,
   "id": "dbd681f3-fe72-41f6-9a39-16644e299f59",
   "metadata": {},
   "outputs": [
    {
     "name": "stdout",
     "output_type": "stream",
     "text": [
      "[[  1   2   6]\n",
      " [  6  42 126]\n",
      " [  9   9  54]]\n"
     ]
    }
   ],
   "source": [
    "print(np.cumprod(c,axis=1))"
   ]
  },
  {
   "cell_type": "code",
   "execution_count": 63,
   "id": "47997672-8d82-49c1-901d-046896ada0de",
   "metadata": {},
   "outputs": [
    {
     "name": "stdout",
     "output_type": "stream",
     "text": [
      "[0 1 7 2]\n"
     ]
    }
   ],
   "source": [
    "s1 = np.array([90,23,40,12])\n",
    "s2 = np.array([10,2,11,5])\n",
    "print(np.mod(s1,s2))"
   ]
  },
  {
   "cell_type": "code",
   "execution_count": 64,
   "id": "8fe86f4f-4f2f-4a41-b190-a218b91c6a6e",
   "metadata": {},
   "outputs": [
    {
     "name": "stdout",
     "output_type": "stream",
     "text": [
      "(array([ 9, 11,  3,  2]), array([0, 1, 7, 2]))\n"
     ]
    }
   ],
   "source": [
    "print(np.divmod(s1,s2))"
   ]
  },
  {
   "cell_type": "code",
   "execution_count": 90,
   "id": "39369d4d-e30e-4502-9ef9-22fc12ab60de",
   "metadata": {},
   "outputs": [
    {
     "name": "stdout",
     "output_type": "stream",
     "text": [
      "9.0\n"
     ]
    }
   ],
   "source": [
    "num1 = 81\n",
    "num2 = 99\n",
    "num3 = 78\n",
    "print(np.sqrt(num1))"
   ]
  },
  {
   "cell_type": "code",
   "execution_count": 91,
   "id": "5f419367-ed3b-4ccb-8530-b3648e113396",
   "metadata": {},
   "outputs": [
    {
     "name": "stdout",
     "output_type": "stream",
     "text": [
      "891\n"
     ]
    }
   ],
   "source": [
    "print(np.lcm(num1,num2))"
   ]
  },
  {
   "cell_type": "code",
   "execution_count": 92,
   "id": "c693f793-7ebb-43f4-aa45-d905016cfa7b",
   "metadata": {},
   "outputs": [
    {
     "name": "stdout",
     "output_type": "stream",
     "text": [
      "9\n"
     ]
    }
   ],
   "source": [
    "print(np.gcd(num1,num2))"
   ]
  },
  {
   "cell_type": "code",
   "execution_count": 93,
   "id": "da4d347a-00ed-400a-942d-49533d5d9c30",
   "metadata": {},
   "outputs": [
    {
     "name": "stdout",
     "output_type": "stream",
     "text": [
      "268335\n"
     ]
    }
   ],
   "source": [
    "AA = [45,67,89]\n",
    "print(np.lcm.reduce(AA))"
   ]
  },
  {
   "cell_type": "code",
   "execution_count": 94,
   "id": "8259cb91-e170-453b-927c-148f191bffe1",
   "metadata": {},
   "outputs": [
    {
     "name": "stdout",
     "output_type": "stream",
     "text": [
      "1\n"
     ]
    }
   ],
   "source": [
    "print(np.gcd.reduce(AA))"
   ]
  },
  {
   "cell_type": "code",
   "execution_count": 95,
   "id": "76de9107-8887-49c2-8d85-b06541f63485",
   "metadata": {},
   "outputs": [
    {
     "name": "stdout",
     "output_type": "stream",
     "text": [
      "[ 0  5  7 23]\n"
     ]
    }
   ],
   "source": [
    "AB = np.array([0,-5,7,-23])\n",
    "print(np.absolute(AB))"
   ]
  },
  {
   "cell_type": "markdown",
   "id": "4df7f9ac-dd70-4a18-8669-f8fc28970190",
   "metadata": {},
   "source": [
    "Logarithms"
   ]
  },
  {
   "cell_type": "code",
   "execution_count": 96,
   "id": "382f4ffe-956a-4ffa-9f34-7f6a457a573b",
   "metadata": {},
   "outputs": [
    {
     "name": "stdout",
     "output_type": "stream",
     "text": [
      "3.8066624897703196\n"
     ]
    }
   ],
   "source": [
    "n = 45\n",
    "print(np.log(n))"
   ]
  },
  {
   "cell_type": "code",
   "execution_count": 97,
   "id": "beb078e7-502e-44dc-98a7-b7f84f27ed88",
   "metadata": {},
   "outputs": [
    {
     "name": "stdout",
     "output_type": "stream",
     "text": [
      "1.6532125137753437\n"
     ]
    }
   ],
   "source": [
    "print(np.log10(n))"
   ]
  },
  {
   "cell_type": "code",
   "execution_count": 98,
   "id": "2dcbdd0d-580a-4e5b-9f7c-30f2cc15b3d1",
   "metadata": {},
   "outputs": [
    {
     "name": "stdout",
     "output_type": "stream",
     "text": [
      "5.491853096329675\n"
     ]
    }
   ],
   "source": [
    "print(np.log2(n))"
   ]
  },
  {
   "cell_type": "markdown",
   "id": "7f0054d9-602e-4b99-9b9e-9fcecf289709",
   "metadata": {},
   "source": [
    "Universal function"
   ]
  },
  {
   "cell_type": "code",
   "execution_count": 65,
   "id": "2d868d16-0dd5-454e-b4cf-d13ae7849e4c",
   "metadata": {},
   "outputs": [
    {
     "name": "stdout",
     "output_type": "stream",
     "text": [
      "111\n"
     ]
    }
   ],
   "source": [
    "A = np.array([56,78,12,32,111,109])\n",
    "print(max(A))"
   ]
  },
  {
   "cell_type": "code",
   "execution_count": 66,
   "id": "8f30552b-2a68-4144-9366-1f0636ba346e",
   "metadata": {},
   "outputs": [
    {
     "name": "stdout",
     "output_type": "stream",
     "text": [
      "12\n"
     ]
    }
   ],
   "source": [
    "A = np.array([56,78,12,32,111,109])\n",
    "print(min(A))"
   ]
  },
  {
   "cell_type": "markdown",
   "id": "2ac2a63e-5c8b-45af-9802-693b5a07a61d",
   "metadata": {},
   "source": [
    "Sorting"
   ]
  },
  {
   "cell_type": "code",
   "execution_count": 67,
   "id": "179f7c70-eddf-48f4-bd33-6be48c380cb0",
   "metadata": {},
   "outputs": [
    {
     "name": "stdout",
     "output_type": "stream",
     "text": [
      "[ 1 12 45 89 90 98]\n"
     ]
    }
   ],
   "source": [
    "B = np.array([90,12,45,1,89,98])\n",
    "B.sort()\n",
    "print(B)"
   ]
  },
  {
   "cell_type": "code",
   "execution_count": 71,
   "id": "658af1d4-81a7-4394-beac-010599c5e7ff",
   "metadata": {},
   "outputs": [
    {
     "name": "stdout",
     "output_type": "stream",
     "text": [
      "[98 34 56 78 89]\n",
      "[34, 56, 78, 89, 98]\n"
     ]
    }
   ],
   "source": [
    "C = np.array([98,34,56,78,89])\n",
    "D = sorted(C)\n",
    "print(C)\n",
    "print(D)"
   ]
  },
  {
   "cell_type": "markdown",
   "id": "77692193-1af0-4364-be16-6d93ba30e1cf",
   "metadata": {},
   "source": [
    "Rounding"
   ]
  },
  {
   "cell_type": "code",
   "execution_count": 72,
   "id": "c76d3ec9-01db-482c-9fcc-a1ecdbc01d8d",
   "metadata": {},
   "outputs": [
    {
     "name": "stdout",
     "output_type": "stream",
     "text": [
      "[10. -7.]\n"
     ]
    }
   ],
   "source": [
    "s2 = np.array([ 9.1 , -7.8 ]) \n",
    "print(np.ceil(s2))"
   ]
  },
  {
   "cell_type": "code",
   "execution_count": 73,
   "id": "81b9e9a2-9f76-4c8c-bc5f-75775d204aaf",
   "metadata": {},
   "outputs": [
    {
     "name": "stdout",
     "output_type": "stream",
     "text": [
      "[ 9. -8.]\n"
     ]
    }
   ],
   "source": [
    "print(np.floor(s2))"
   ]
  },
  {
   "cell_type": "markdown",
   "id": "d4ded84f-e86f-4262-a532-8c5d56ba6f87",
   "metadata": {},
   "source": [
    "Random module"
   ]
  },
  {
   "cell_type": "code",
   "execution_count": 74,
   "id": "95381f49-ac91-4eb2-ac81-8c695f0ccf47",
   "metadata": {},
   "outputs": [],
   "source": [
    "import numpy.random as rd"
   ]
  },
  {
   "cell_type": "code",
   "execution_count": 75,
   "id": "7a290051-16b0-426d-94bf-c8631fc89445",
   "metadata": {},
   "outputs": [
    {
     "name": "stdout",
     "output_type": "stream",
     "text": [
      "[0.12143128 0.09445885]\n"
     ]
    }
   ],
   "source": [
    "ran1 = rd.rand(2)  #0 to 1\n",
    "print(ran1)"
   ]
  },
  {
   "cell_type": "code",
   "execution_count": 81,
   "id": "50573fc8-2a3d-4d65-a668-277958f8fcad",
   "metadata": {},
   "outputs": [
    {
     "name": "stdout",
     "output_type": "stream",
     "text": [
      "2\n"
     ]
    }
   ],
   "source": [
    "ran2 = rd.randint(5)   #0 to 5\n",
    "print(ran2)"
   ]
  },
  {
   "cell_type": "code",
   "execution_count": 82,
   "id": "1f9260e5-00f5-4e0f-952b-94ada310c1dd",
   "metadata": {},
   "outputs": [
    {
     "name": "stdout",
     "output_type": "stream",
     "text": [
      "[2 0 4 0 3 1]\n"
     ]
    }
   ],
   "source": [
    "ran3 = rd.randint(5,size = (6))\n",
    "print(ran3)"
   ]
  },
  {
   "cell_type": "code",
   "execution_count": 83,
   "id": "beeff2db-50f9-4f51-a027-86bd45a4e4fd",
   "metadata": {},
   "outputs": [
    {
     "name": "stdout",
     "output_type": "stream",
     "text": [
      "[[[2 4 0]\n",
      "  [2 0 0]]\n",
      "\n",
      " [[2 3 1]\n",
      "  [3 3 4]]\n",
      "\n",
      " [[3 4 0]\n",
      "  [4 2 1]]\n",
      "\n",
      " [[0 3 2]\n",
      "  [0 4 1]]\n",
      "\n",
      " [[1 2 0]\n",
      "  [0 3 1]]\n",
      "\n",
      " [[4 4 3]\n",
      "  [4 1 2]]]\n"
     ]
    }
   ],
   "source": [
    "ran4 = rd.randint(5,size = (6,2,3))  #limit,size=(g,r,c)\n",
    "print(ran4)"
   ]
  },
  {
   "cell_type": "markdown",
   "id": "c6ae1feb-5e5c-4e4b-9048-30e603b9c2a3",
   "metadata": {},
   "source": [
    "Stack"
   ]
  },
  {
   "cell_type": "code",
   "execution_count": 84,
   "id": "f2ba6687-0444-4d99-be0d-182cca64c768",
   "metadata": {},
   "outputs": [
    {
     "name": "stdout",
     "output_type": "stream",
     "text": [
      "[[ 9  4 23]\n",
      " [ 3  4  5]]\n",
      "\n",
      "\n",
      "[[ 8  5  2]\n",
      " [33 42 51]]\n"
     ]
    }
   ],
   "source": [
    "Ar1 = np.array([[9,4,23],[3,4,5]])\n",
    "Ar2 = np.array([[8,5,2],[33,42,51]])\n",
    "print(Ar1)\n",
    "print(\"\\n\")\n",
    "print(Ar2)"
   ]
  },
  {
   "cell_type": "code",
   "execution_count": 85,
   "id": "54761670-f95b-4ece-b9fb-f78097c5a05e",
   "metadata": {},
   "outputs": [
    {
     "name": "stdout",
     "output_type": "stream",
     "text": [
      "[[ 9  4 23  8  5  2]\n",
      " [ 3  4  5 33 42 51]]\n"
     ]
    }
   ],
   "source": [
    "Ar3 = np.hstack((Ar1,Ar2))  #side by side\n",
    "print(Ar3)                  #h=horizontal"
   ]
  },
  {
   "cell_type": "code",
   "execution_count": 86,
   "id": "c8f347d2-0acd-4444-b009-c3335fa3c533",
   "metadata": {},
   "outputs": [
    {
     "name": "stdout",
     "output_type": "stream",
     "text": [
      "[[ 9  4 23]\n",
      " [ 3  4  5]\n",
      " [ 8  5  2]\n",
      " [33 42 51]]\n"
     ]
    }
   ],
   "source": [
    "Ar4 = np.vstack((Ar1,Ar2))   #one top another\n",
    "print(Ar4)                   #v=vertical"
   ]
  },
  {
   "cell_type": "code",
   "execution_count": 87,
   "id": "36368939-85c0-4e42-95c3-7e0b0a3b7d4a",
   "metadata": {},
   "outputs": [
    {
     "name": "stdout",
     "output_type": "stream",
     "text": [
      "[[[ 1  2]\n",
      "  [ 3  4]]\n",
      "\n",
      " [[ 5  6]\n",
      "  [ 7  8]]\n",
      "\n",
      " [[ 9 10]\n",
      "  [11 12]]]\n"
     ]
    }
   ],
   "source": [
    "Ar5 = np.arange(1,13).reshape(3,2,2)\n",
    "print(Ar5)"
   ]
  },
  {
   "cell_type": "code",
   "execution_count": 88,
   "id": "b5404031-8cce-4ef8-ba82-0927efd15f6b",
   "metadata": {},
   "outputs": [
    {
     "name": "stdout",
     "output_type": "stream",
     "text": [
      "[[[ 1  5  9]\n",
      "  [ 2  6 10]]\n",
      "\n",
      " [[ 3  7 11]\n",
      "  [ 4  8 12]]]\n"
     ]
    }
   ],
   "source": [
    "Ar6 = np.dstack(Ar5)\n",
    "print(Ar6)"
   ]
  },
  {
   "cell_type": "markdown",
   "id": "e257dc96-3f35-47dd-b112-b590049e4ce8",
   "metadata": {},
   "source": [
    "SET"
   ]
  },
  {
   "cell_type": "code",
   "execution_count": 99,
   "id": "46cd86fc-53ee-4418-af5b-a97ea74b3ed8",
   "metadata": {},
   "outputs": [
    {
     "name": "stdout",
     "output_type": "stream",
     "text": [
      "[9 3 5 2 1] \n",
      "\n",
      "[4 5 2 1 3]\n"
     ]
    }
   ],
   "source": [
    "S1 = np.array([9,3,5,2,1])\n",
    "S2 = np.array([4,5,2,1,3])\n",
    "print(S1,\"\\n\")\n",
    "print(S2)"
   ]
  },
  {
   "cell_type": "code",
   "execution_count": 100,
   "id": "4ee57a63-6df3-42ca-bd1f-00dde2175c11",
   "metadata": {},
   "outputs": [
    {
     "name": "stdout",
     "output_type": "stream",
     "text": [
      "[1 2 3 4 5 9]\n"
     ]
    }
   ],
   "source": [
    "print(np.union1d(S1,S2))"
   ]
  },
  {
   "cell_type": "code",
   "execution_count": 101,
   "id": "20f9f9f4-3ac0-4fb8-827a-4678fb95450a",
   "metadata": {},
   "outputs": [
    {
     "name": "stdout",
     "output_type": "stream",
     "text": [
      "[1 2 3 5]\n"
     ]
    }
   ],
   "source": [
    "print(np.intersect1d(S1,S2))"
   ]
  },
  {
   "cell_type": "code",
   "execution_count": 102,
   "id": "7647641c-564b-4bc4-aa6c-d6b37502910e",
   "metadata": {},
   "outputs": [
    {
     "name": "stdout",
     "output_type": "stream",
     "text": [
      "[9]\n"
     ]
    }
   ],
   "source": [
    "print(np.setdiff1d(S1,S2))"
   ]
  },
  {
   "cell_type": "markdown",
   "id": "c2d9fb70-a4f6-437d-8134-3c0a38475fd1",
   "metadata": {},
   "source": [
    "Search"
   ]
  },
  {
   "cell_type": "code",
   "execution_count": 103,
   "id": "f35bbec0-2c0b-40b4-a935-08c443b73a58",
   "metadata": {},
   "outputs": [
    {
     "name": "stdout",
     "output_type": "stream",
     "text": [
      "(array([0, 2], dtype=int64),)\n"
     ]
    }
   ],
   "source": [
    "col1 = np.array([44,33,12,67,19])\n",
    "index = np.where(col1%2 == 0)\n",
    "print(index)"
   ]
  },
  {
   "cell_type": "code",
   "execution_count": 112,
   "id": "95907554-7191-4158-9936-b93b133b601c",
   "metadata": {},
   "outputs": [
    {
     "name": "stdout",
     "output_type": "stream",
     "text": [
      "(array([0, 4, 5], dtype=int64),)\n"
     ]
    }
   ],
   "source": [
    "col2 = np.array([45,33,21,50,60,15])\n",
    "index = np.where((col2%3==0) & (col2%5 == 0))\n",
    "print(index)\n"
   ]
  },
  {
   "cell_type": "code",
   "execution_count": null,
   "id": "37bf2025-a0a6-454e-8ae9-91a9457ea843",
   "metadata": {},
   "outputs": [],
   "source": []
  },
  {
   "cell_type": "code",
   "execution_count": null,
   "id": "ba9c7784-8469-4543-8e1a-3cedd316ae4a",
   "metadata": {},
   "outputs": [],
   "source": []
  },
  {
   "cell_type": "code",
   "execution_count": null,
   "id": "f6f51d2c-d256-4d9a-9c1e-036e5a08b5f2",
   "metadata": {},
   "outputs": [],
   "source": []
  },
  {
   "cell_type": "code",
   "execution_count": null,
   "id": "2d29e364-a92e-4242-b18c-0424396d6f42",
   "metadata": {},
   "outputs": [],
   "source": []
  }
 ],
 "metadata": {
  "kernelspec": {
   "display_name": "Python 3 (ipykernel)",
   "language": "python",
   "name": "python3"
  },
  "language_info": {
   "codemirror_mode": {
    "name": "ipython",
    "version": 3
   },
   "file_extension": ".py",
   "mimetype": "text/x-python",
   "name": "python",
   "nbconvert_exporter": "python",
   "pygments_lexer": "ipython3",
   "version": "3.11.7"
  }
 },
 "nbformat": 4,
 "nbformat_minor": 5
}
